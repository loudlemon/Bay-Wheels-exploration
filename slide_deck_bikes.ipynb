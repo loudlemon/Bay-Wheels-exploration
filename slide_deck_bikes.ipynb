{
 "cells": [
  {
   "cell_type": "markdown",
   "metadata": {
    "slideshow": {
     "slide_type": "slide"
    }
   },
   "source": [
    "## Bay Wheels Bike Sharing Programm "
   ]
  },
  {
   "cell_type": "markdown",
   "metadata": {
    "slideshow": {
     "slide_type": "slide"
    }
   },
   "source": [
    "## Investigation Overview\n",
    "Bay Wheels is a regional public bicycle sharing system in the San Francisco Bay Area, California operated by Motivate in a partnership with the Metropolitan Transportation Commission and the Bay Area Air Quality Management District. Bay Wheels is the first regional and large-scale bicycle sharing system deployed in California and on the West Coast of the United States. It was established as Bay Area Bike Share in August 2013. As of January 2018, the Bay Wheels system had over 2,600 bicycles in 262 stations across San Francisco, East Bay and San Jose. After Motivate's acquisition by Lyft, the system was subsequently renamed to Bay Wheels in June 2019.This dataset is from the 12-month ride trips in 2019."
   ]
  },
  {
   "cell_type": "markdown",
   "metadata": {
    "slideshow": {
     "slide_type": "slide"
    }
   },
   "source": [
    "## Dataset Overview\n",
    "In this project I will be analizing Bay Wheels's trip public data from 2019 year. Bike share - is  `an affordable, accessible, and fun new transportation option` ([source](https://www.lyft.com/bikes/bay-wheels)) for all residents of the Bay Area offered by Lyft.\n",
    "\n",
    "Each trip is anonymized and includes:\n",
    "\n",
    " - Trip Duration (seconds)\n",
    " - Start Time and Date\n",
    " - End Time and Date\n",
    " - Start Station ID\n",
    " - Start Station Name\n",
    " - Start Station Latitude\n",
    " - Start Station Longitude\n",
    " - End Station ID\n",
    " - End Station Name\n",
    " - End Station Latitude\n",
    " - End Station Longitude\n",
    " - Bike ID\n",
    " - User Type (Subscriber or Customer – “Subscriber” = Member or “Customer” = Casual)\n",
    " - bike_share_for_all_trip\n",
    " - rental access method (mobile app or clipper (transit card))\n",
    " \n",
    " Data is divided by month,so we need some data wrangling to unite all pieces into one entire dataset. "
   ]
  },
  {
   "cell_type": "markdown",
   "metadata": {
    "slideshow": {
     "slide_type": "skip"
    }
   },
   "source": [
    "So, let's start off by importing packages and performing some transformations"
   ]
  },
  {
   "cell_type": "code",
   "execution_count": 26,
   "metadata": {
    "ExecuteTime": {
     "end_time": "2020-04-23T14:26:34.491149Z",
     "start_time": "2020-04-23T14:26:34.480142Z"
    },
    "slideshow": {
     "slide_type": "skip"
    }
   },
   "outputs": [],
   "source": [
    "import pandas as pd\n",
    "import numpy as np\n",
    "import matplotlib.pyplot as plt\n",
    "import seaborn as sns\n",
    "import os\n",
    "import zipfile\n",
    "from tqdm import tqdm\n",
    "sns.set()\n",
    "sns.set_style(\"ticks\")\n",
    "import warnings\n",
    "warnings.filterwarnings('ignore')\n",
    "%matplotlib inline"
   ]
  },
  {
   "cell_type": "code",
   "execution_count": 19,
   "metadata": {
    "ExecuteTime": {
     "end_time": "2020-04-23T14:23:58.485009Z",
     "start_time": "2020-04-23T14:23:58.482007Z"
    },
    "slideshow": {
     "slide_type": "skip"
    }
   },
   "outputs": [],
   "source": [
    "os.chdir('archives')"
   ]
  },
  {
   "cell_type": "code",
   "execution_count": 21,
   "metadata": {
    "ExecuteTime": {
     "end_time": "2020-04-23T14:24:05.782065Z",
     "start_time": "2020-04-23T14:24:05.778063Z"
    },
    "slideshow": {
     "slide_type": "skip"
    }
   },
   "outputs": [],
   "source": [
    "# Creating mask to filter only .zip files\n",
    "list_of_files = np.array(os.listdir())\n",
    "mask = [x.endswith('zip') for x in list_of_files]\n",
    "only_zip = list_of_files[mask]"
   ]
  },
  {
   "cell_type": "code",
   "execution_count": 22,
   "metadata": {
    "ExecuteTime": {
     "end_time": "2020-04-23T14:24:07.823928Z",
     "start_time": "2020-04-23T14:24:07.819926Z"
    },
    "slideshow": {
     "slide_type": "skip"
    }
   },
   "outputs": [
    {
     "data": {
      "text/plain": [
       "array(['201901-fordgobike-tripdata.csv.zip',\n",
       "       '201902-fordgobike-tripdata.csv.zip',\n",
       "       '201903-fordgobike-tripdata.csv.zip',\n",
       "       '201904-fordgobike-tripdata.csv.zip',\n",
       "       '201905-baywheels-tripdata.csv.zip',\n",
       "       '201906-baywheels-tripdata.csv.zip',\n",
       "       '201907-baywheels-tripdata.csv.zip',\n",
       "       '201908-baywheels-tripdata.csv.zip',\n",
       "       '201909-baywheels-tripdata.csv.zip',\n",
       "       '201910-baywheels-tripdata.csv.zip',\n",
       "       '201911-baywheels-tripdata.csv.zip',\n",
       "       '201912-baywheels-tripdata.csv.zip'], dtype='<U34')"
      ]
     },
     "execution_count": 22,
     "metadata": {},
     "output_type": "execute_result"
    }
   ],
   "source": [
    "only_zip"
   ]
  },
  {
   "cell_type": "code",
   "execution_count": 23,
   "metadata": {
    "ExecuteTime": {
     "end_time": "2020-04-23T14:24:14.375568Z",
     "start_time": "2020-04-23T14:24:14.369563Z"
    },
    "slideshow": {
     "slide_type": "skip"
    }
   },
   "outputs": [],
   "source": [
    "def union_all(list_of_zips) -> pd.DataFrame:\n",
    "    \"\"\"\n",
    "    Small function to concatenate .csv files\n",
    "    \n",
    "    Parameters:\n",
    "    ----------\n",
    "    list_of_zips : numpy array object\n",
    "        numpy array  with .zip files\n",
    "    \"\"\"\n",
    "    \n",
    "    lst_df = []\n",
    "    print(f'There are {list_of_zips.shape[0]} elements in the array')\n",
    "    print('Iterating over array...')\n",
    "    for name in tqdm(list_of_zips):\n",
    "        zip_name = name\n",
    "        file_name = zip_name[:-4]\n",
    "        with zipfile.ZipFile(zip_name) as file:\n",
    "            with file.open(file_name) as data:\n",
    "                df = pd.read_csv(data)\n",
    "                lst_df.append(df)\n",
    "    result = pd.concat(lst_df)\n",
    "    return result"
   ]
  },
  {
   "cell_type": "code",
   "execution_count": 27,
   "metadata": {
    "ExecuteTime": {
     "end_time": "2020-04-23T14:27:05.946556Z",
     "start_time": "2020-04-23T14:26:42.265169Z"
    },
    "scrolled": true,
    "slideshow": {
     "slide_type": "skip"
    }
   },
   "outputs": [
    {
     "name": "stdout",
     "output_type": "stream",
     "text": [
      "There are 12 elements in the array\n",
      "Iterating over array...\n"
     ]
    },
    {
     "name": "stderr",
     "output_type": "stream",
     "text": [
      "100%|██████████████████████████████████████████| 12/12 [00:22<00:00,  1.85s/it]\n"
     ]
    }
   ],
   "source": [
    "df = union_all(only_zip)"
   ]
  },
  {
   "cell_type": "code",
   "execution_count": 4,
   "metadata": {
    "ExecuteTime": {
     "end_time": "2020-04-23T13:40:56.888871Z",
     "start_time": "2020-04-23T13:40:52.683554Z"
    },
    "slideshow": {
     "slide_type": "skip"
    }
   },
   "outputs": [],
   "source": [
    "df[['start_station_name']] = df[['start_station_name']].replace(np.nan, 'no name for this station', regex=True)\n",
    "df[['end_station_name']] = df[['end_station_name']].replace(np.nan, 'no name for this station', regex=True)\n",
    "df['start_time'] = pd.to_datetime(df['start_time'],yearfirst = True)\n",
    "df['end_time'] = pd.to_datetime(df['end_time'],yearfirst = True)\n",
    "df['duration_min'] = df['duration_sec']/60\n",
    "df['start_day'] = df['start_time'].dt.day_name()\n",
    "df['month'] = df['start_time'].dt.month_name()"
   ]
  },
  {
   "cell_type": "markdown",
   "metadata": {
    "slideshow": {
     "slide_type": "slide"
    }
   },
   "source": [
    "### Duration of a trip : Customer VS Subscriber"
   ]
  },
  {
   "cell_type": "code",
   "execution_count": 5,
   "metadata": {
    "ExecuteTime": {
     "end_time": "2020-04-23T13:40:59.943006Z",
     "start_time": "2020-04-23T13:40:59.908372Z"
    },
    "slideshow": {
     "slide_type": "skip"
    }
   },
   "outputs": [
    {
     "data": {
      "text/html": [
       "<div>\n",
       "<style scoped>\n",
       "    .dataframe tbody tr th:only-of-type {\n",
       "        vertical-align: middle;\n",
       "    }\n",
       "\n",
       "    .dataframe tbody tr th {\n",
       "        vertical-align: top;\n",
       "    }\n",
       "\n",
       "    .dataframe thead th {\n",
       "        text-align: right;\n",
       "    }\n",
       "</style>\n",
       "<table border=\"1\" class=\"dataframe\">\n",
       "  <thead>\n",
       "    <tr style=\"text-align: right;\">\n",
       "      <th></th>\n",
       "      <th>duration_sec</th>\n",
       "      <th>start_time</th>\n",
       "      <th>end_time</th>\n",
       "      <th>start_station_id</th>\n",
       "      <th>start_station_name</th>\n",
       "      <th>start_station_latitude</th>\n",
       "      <th>start_station_longitude</th>\n",
       "      <th>end_station_id</th>\n",
       "      <th>end_station_name</th>\n",
       "      <th>end_station_latitude</th>\n",
       "      <th>end_station_longitude</th>\n",
       "      <th>bike_id</th>\n",
       "      <th>user_type</th>\n",
       "      <th>bike_share_for_all_trip</th>\n",
       "      <th>rental_access_method</th>\n",
       "      <th>duration_min</th>\n",
       "      <th>start_day</th>\n",
       "      <th>month</th>\n",
       "    </tr>\n",
       "  </thead>\n",
       "  <tbody>\n",
       "    <tr>\n",
       "      <th>0</th>\n",
       "      <td>80825</td>\n",
       "      <td>2019-01-31 17:57:44.613</td>\n",
       "      <td>2019-02-01 16:24:49.864</td>\n",
       "      <td>229.0</td>\n",
       "      <td>Foothill Blvd at 42nd Ave</td>\n",
       "      <td>37.775745</td>\n",
       "      <td>-122.213037</td>\n",
       "      <td>196.0</td>\n",
       "      <td>Grand Ave at Perkins St</td>\n",
       "      <td>37.808894</td>\n",
       "      <td>-122.256460</td>\n",
       "      <td>4861</td>\n",
       "      <td>Subscriber</td>\n",
       "      <td>No</td>\n",
       "      <td>NaN</td>\n",
       "      <td>1347.083333</td>\n",
       "      <td>Thursday</td>\n",
       "      <td>January</td>\n",
       "    </tr>\n",
       "    <tr>\n",
       "      <th>1</th>\n",
       "      <td>65900</td>\n",
       "      <td>2019-01-31 20:58:33.886</td>\n",
       "      <td>2019-02-01 15:16:54.173</td>\n",
       "      <td>4.0</td>\n",
       "      <td>Cyril Magnin St at Ellis St</td>\n",
       "      <td>37.785881</td>\n",
       "      <td>-122.408915</td>\n",
       "      <td>134.0</td>\n",
       "      <td>Valencia St at 24th St</td>\n",
       "      <td>37.752428</td>\n",
       "      <td>-122.420628</td>\n",
       "      <td>5506</td>\n",
       "      <td>Subscriber</td>\n",
       "      <td>No</td>\n",
       "      <td>NaN</td>\n",
       "      <td>1098.333333</td>\n",
       "      <td>Thursday</td>\n",
       "      <td>January</td>\n",
       "    </tr>\n",
       "    <tr>\n",
       "      <th>2</th>\n",
       "      <td>62633</td>\n",
       "      <td>2019-01-31 18:06:52.924</td>\n",
       "      <td>2019-02-01 11:30:46.530</td>\n",
       "      <td>245.0</td>\n",
       "      <td>Downtown Berkeley BART</td>\n",
       "      <td>37.870139</td>\n",
       "      <td>-122.268422</td>\n",
       "      <td>157.0</td>\n",
       "      <td>65th St at Hollis St</td>\n",
       "      <td>37.846784</td>\n",
       "      <td>-122.291376</td>\n",
       "      <td>2717</td>\n",
       "      <td>Customer</td>\n",
       "      <td>No</td>\n",
       "      <td>NaN</td>\n",
       "      <td>1043.883333</td>\n",
       "      <td>Thursday</td>\n",
       "      <td>January</td>\n",
       "    </tr>\n",
       "    <tr>\n",
       "      <th>3</th>\n",
       "      <td>44680</td>\n",
       "      <td>2019-01-31 19:46:09.719</td>\n",
       "      <td>2019-02-01 08:10:50.318</td>\n",
       "      <td>85.0</td>\n",
       "      <td>Church St at Duboce Ave</td>\n",
       "      <td>37.770083</td>\n",
       "      <td>-122.429156</td>\n",
       "      <td>53.0</td>\n",
       "      <td>Grove St at Divisadero</td>\n",
       "      <td>37.775946</td>\n",
       "      <td>-122.437777</td>\n",
       "      <td>4557</td>\n",
       "      <td>Customer</td>\n",
       "      <td>No</td>\n",
       "      <td>NaN</td>\n",
       "      <td>744.666667</td>\n",
       "      <td>Thursday</td>\n",
       "      <td>January</td>\n",
       "    </tr>\n",
       "    <tr>\n",
       "      <th>4</th>\n",
       "      <td>60709</td>\n",
       "      <td>2019-01-31 14:19:01.541</td>\n",
       "      <td>2019-02-01 07:10:51.065</td>\n",
       "      <td>16.0</td>\n",
       "      <td>Steuart St at Market St</td>\n",
       "      <td>37.794130</td>\n",
       "      <td>-122.394430</td>\n",
       "      <td>28.0</td>\n",
       "      <td>The Embarcadero at Bryant St</td>\n",
       "      <td>37.787168</td>\n",
       "      <td>-122.388098</td>\n",
       "      <td>2100</td>\n",
       "      <td>Customer</td>\n",
       "      <td>No</td>\n",
       "      <td>NaN</td>\n",
       "      <td>1011.816667</td>\n",
       "      <td>Thursday</td>\n",
       "      <td>January</td>\n",
       "    </tr>\n",
       "  </tbody>\n",
       "</table>\n",
       "</div>"
      ],
      "text/plain": [
       "   duration_sec              start_time                end_time  \\\n",
       "0         80825 2019-01-31 17:57:44.613 2019-02-01 16:24:49.864   \n",
       "1         65900 2019-01-31 20:58:33.886 2019-02-01 15:16:54.173   \n",
       "2         62633 2019-01-31 18:06:52.924 2019-02-01 11:30:46.530   \n",
       "3         44680 2019-01-31 19:46:09.719 2019-02-01 08:10:50.318   \n",
       "4         60709 2019-01-31 14:19:01.541 2019-02-01 07:10:51.065   \n",
       "\n",
       "   start_station_id           start_station_name  start_station_latitude  \\\n",
       "0             229.0    Foothill Blvd at 42nd Ave               37.775745   \n",
       "1               4.0  Cyril Magnin St at Ellis St               37.785881   \n",
       "2             245.0       Downtown Berkeley BART               37.870139   \n",
       "3              85.0      Church St at Duboce Ave               37.770083   \n",
       "4              16.0      Steuart St at Market St               37.794130   \n",
       "\n",
       "   start_station_longitude  end_station_id              end_station_name  \\\n",
       "0              -122.213037           196.0       Grand Ave at Perkins St   \n",
       "1              -122.408915           134.0        Valencia St at 24th St   \n",
       "2              -122.268422           157.0          65th St at Hollis St   \n",
       "3              -122.429156            53.0        Grove St at Divisadero   \n",
       "4              -122.394430            28.0  The Embarcadero at Bryant St   \n",
       "\n",
       "   end_station_latitude  end_station_longitude  bike_id   user_type  \\\n",
       "0             37.808894            -122.256460     4861  Subscriber   \n",
       "1             37.752428            -122.420628     5506  Subscriber   \n",
       "2             37.846784            -122.291376     2717    Customer   \n",
       "3             37.775946            -122.437777     4557    Customer   \n",
       "4             37.787168            -122.388098     2100    Customer   \n",
       "\n",
       "  bike_share_for_all_trip rental_access_method  duration_min start_day  \\\n",
       "0                      No                  NaN   1347.083333  Thursday   \n",
       "1                      No                  NaN   1098.333333  Thursday   \n",
       "2                      No                  NaN   1043.883333  Thursday   \n",
       "3                      No                  NaN    744.666667  Thursday   \n",
       "4                      No                  NaN   1011.816667  Thursday   \n",
       "\n",
       "     month  \n",
       "0  January  \n",
       "1  January  \n",
       "2  January  \n",
       "3  January  \n",
       "4  January  "
      ]
     },
     "execution_count": 5,
     "metadata": {},
     "output_type": "execute_result"
    }
   ],
   "source": [
    "df.head()"
   ]
  },
  {
   "cell_type": "markdown",
   "metadata": {
    "slideshow": {
     "slide_type": "slide"
    }
   },
   "source": [
    "During data analisys in the previous part, we discovered that subscribers are the majority in our data, and it would seem that subscribers have longer trips and in general are more active, but that is not almost true:"
   ]
  },
  {
   "cell_type": "code",
   "execution_count": 6,
   "metadata": {
    "ExecuteTime": {
     "end_time": "2020-04-23T13:41:10.580898Z",
     "start_time": "2020-04-23T13:40:59.999475Z"
    },
    "scrolled": true,
    "slideshow": {
     "slide_type": "subslide"
    }
   },
   "outputs": [
    {
     "data": {
      "image/png": "[encoded data removed]",
      "text/plain": [
       "<Figure size 432x288 with 1 Axes>"
      ]
     },
     "metadata": {
      "needs_background": "light"
     },
     "output_type": "display_data"
    }
   ],
   "source": [
    "plt.title('Mean in two groups of users')\n",
    "ax = df.groupby('user_type')['duration_min'].agg([np.mean]).unstack().plot(kind = 'barh')\n",
    "ax.set(title='Mean in two groups of users', \n",
    "       xlabel = 'Mean duration time (min)',ylabel='User type');"
   ]
  },
  {
   "cell_type": "code",
   "execution_count": 7,
   "metadata": {
    "ExecuteTime": {
     "end_time": "2020-04-23T13:41:11.020071Z",
     "start_time": "2020-04-23T13:41:10.632867Z"
    },
    "slideshow": {
     "slide_type": "subslide"
    }
   },
   "outputs": [
    {
     "data": {
      "image/png": "[encoded data removed]",
      "text/plain": [
       "<Figure size 432x288 with 1 Axes>"
      ]
     },
     "metadata": {
      "needs_background": "light"
     },
     "output_type": "display_data"
    }
   ],
   "source": [
    "plt.title('Total duration in two groups of users')\n",
    "ax = df.groupby('user_type')['duration_min'].agg([np.sum]).unstack().plot(kind = 'barh')\n",
    "ax.set(title='Mean in two groups of users', \n",
    "       xlabel = 'Total duration time (min)',ylabel='User type');"
   ]
  },
  {
   "cell_type": "markdown",
   "metadata": {
    "slideshow": {
     "slide_type": "slide"
    }
   },
   "source": [
    "Total duration sum in Subscriber group is as much as twice higher than in Customer group, but mean time is twice higher in Customer group, despite the fact that I removed outlier from Customer user type and nothing changed, just a few decimals."
   ]
  },
  {
   "cell_type": "code",
   "execution_count": 8,
   "metadata": {
    "ExecuteTime": {
     "end_time": "2020-04-23T13:41:13.405741Z",
     "start_time": "2020-04-23T13:41:11.071369Z"
    },
    "scrolled": true,
    "slideshow": {
     "slide_type": "subslide"
    }
   },
   "outputs": [
    {
     "data": {
      "image/png": "[encoded data removed]",
      "text/plain": [
       "<Figure size 432x288 with 1 Axes>"
      ]
     },
     "metadata": {
      "needs_background": "light"
     },
     "output_type": "display_data"
    }
   ],
   "source": [
    "order = ['Monday', 'Tuesday', 'Wednesday','Thursday', 'Friday', 'Saturday', 'Sunday']\n",
    "sns.countplot(data=df, x='start_day', hue='user_type', order = order)\n",
    "plt.title('Activity of user types')\n",
    "plt.xlabel('Day of Week');\n",
    "plt.ylabel('Count')\n",
    "plt.xticks(rotation = 45)\n",
    "sns.despine();"
   ]
  },
  {
   "cell_type": "markdown",
   "metadata": {
    "slideshow": {
     "slide_type": "slide"
    }
   },
   "source": [
    "Look at the plot above. During weekend there is a drop in number of occurences in both groups,right? Now, look at the plot below."
   ]
  },
  {
   "cell_type": "code",
   "execution_count": 9,
   "metadata": {
    "ExecuteTime": {
     "end_time": "2020-04-23T13:41:53.114791Z",
     "start_time": "2020-04-23T13:41:13.461682Z"
    },
    "slideshow": {
     "slide_type": "subslide"
    }
   },
   "outputs": [
    {
     "data": {
      "image/png": "[encoded data removed]",
      "text/plain": [
       "<Figure size 576x432 with 1 Axes>"
      ]
     },
     "metadata": {
      "needs_background": "light"
     },
     "output_type": "display_data"
    }
   ],
   "source": [
    "order = ['Monday', 'Tuesday', 'Wednesday','Thursday', 'Friday', 'Saturday', 'Sunday']\n",
    "plt.figure(figsize=(8,6))\n",
    "sns.pointplot(data=df, x='start_day', y='duration_min', hue='user_type', dodge=0.3, linestyles=\"\",order=order)\n",
    "plt.title('Average duration : Customers VS Subscribers')\n",
    "plt.xlabel('Day of Week')\n",
    "plt.ylabel('Average duration in minutes')\n",
    "plt.xticks(rotation=45);"
   ]
  },
  {
   "cell_type": "markdown",
   "metadata": {
    "slideshow": {
     "slide_type": "slide"
    }
   },
   "source": [
    "In the mean time, our mean time increases during weekend in both groups, especially in Customers, people use bikes for longer time, because they have more time comparing to work days."
   ]
  },
  {
   "cell_type": "markdown",
   "metadata": {
    "slideshow": {
     "slide_type": "slide"
    }
   },
   "source": [
    "Activity by month. Again, there are a lot more subsribers,starting from June customers count increases, then minir pit in November, and maximal values in December."
   ]
  },
  {
   "cell_type": "code",
   "execution_count": 10,
   "metadata": {
    "ExecuteTime": {
     "end_time": "2020-04-23T13:41:55.097796Z",
     "start_time": "2020-04-23T13:41:53.170826Z"
    },
    "slideshow": {
     "slide_type": "subslide"
    }
   },
   "outputs": [
    {
     "data": {
      "image/png": "[encoded data removed]",
      "text/plain": [
       "<Figure size 576x432 with 1 Axes>"
      ]
     },
     "metadata": {
      "needs_background": "light"
     },
     "output_type": "display_data"
    }
   ],
   "source": [
    "plt.figure(figsize=(8,6))\n",
    "ax = sns.countplot(data=df, x='month', hue='user_type');\n",
    "ax.legend(title='User Type');\n",
    "plt.xticks(rotation=30);\n",
    "plt.xlabel('');\n",
    "plt.ylabel('Count');\n",
    "plt.suptitle('User Types and Their Activity', fontsize=14, fontweight='semibold', y=1.015);"
   ]
  },
  {
   "cell_type": "markdown",
   "metadata": {
    "slideshow": {
     "slide_type": "slide"
    }
   },
   "source": [
    "And again, mean dration time is higher for Customers during the whole year"
   ]
  },
  {
   "cell_type": "code",
   "execution_count": 16,
   "metadata": {
    "ExecuteTime": {
     "end_time": "2020-04-23T13:48:57.565739Z",
     "start_time": "2020-04-23T13:48:56.868720Z"
    },
    "slideshow": {
     "slide_type": "subslide"
    }
   },
   "outputs": [
    {
     "data": {
      "image/png": "[encoded data removed]",
      "text/plain": [
       "<Figure size 432x288 with 1 Axes>"
      ]
     },
     "metadata": {
      "needs_background": "light"
     },
     "output_type": "display_data"
    }
   ],
   "source": [
    "ax = df.groupby(['month','user_type'])['duration_min'].agg(np.mean).unstack().plot(kind = 'barh')\n",
    "ax.set(title='Mean duration by month',xlabel = 'Duration (min)');\n"
   ]
  },
  {
   "cell_type": "markdown",
   "metadata": {
    "slideshow": {
     "slide_type": "slide"
    }
   },
   "source": [
    "### Summary\n",
    "In the dataset represented number of user types varies in favour of Subscribers, people in this group bikes all year round, probably they have annual subscription, that is they use bikes every day, and according to visuals, to get ot their job, mostly from ordinary stations to train stations and vice verse when going back home. Travel for a short distances day to day for the whole year with  slightly prolonged duration on weekdays - that is a behavoir of subscribers.\n",
    "\n",
    "Whereas Customers are different. They use bikes to get around, explore the area, lot's of turists among them,I suppose. The interseting fact is that people in this group tend to rent a bike (on average) for a longer time during the whole year, despite the fact their number is twice as much as lower then in Subscribers group.\n",
    "\n"
   ]
  }
 ],
 "metadata": {
  "celltoolbar": "Slideshow",
  "kernelspec": {
   "display_name": "Python 3",
   "language": "python",
   "name": "python3"
  },
  "language_info": {
   "codemirror_mode": {
    "name": "ipython",
    "version": 3
   },
   "file_extension": ".py",
   "mimetype": "text/x-python",
   "name": "python",
   "nbconvert_exporter": "python",
   "pygments_lexer": "ipython3",
   "version": "3.6.5"
  },
  "latex_envs": {
   "LaTeX_envs_menu_present": true,
   "autoclose": false,
   "autocomplete": true,
   "bibliofile": "biblio.bib",
   "cite_by": "apalike",
   "current_citInitial": 1,
   "eqLabelWithNumbers": true,
   "eqNumInitial": 1,
   "hotkeys": {
    "equation": "Ctrl-E",
    "itemize": "Ctrl-I"
   },
   "labels_anchors": false,
   "latex_user_defs": false,
   "report_style_numbering": false,
   "user_envs_cfg": false
  },
  "varInspector": {
   "cols": {
    "lenName": 16,
    "lenType": 16,
    "lenVar": 40
   },
   "kernels_config": {
    "python": {
     "delete_cmd_postfix": "",
     "delete_cmd_prefix": "del ",
     "library": "var_list.py",
     "varRefreshCmd": "print(var_dic_list())"
    },
    "r": {
     "delete_cmd_postfix": ") ",
     "delete_cmd_prefix": "rm(",
     "library": "var_list.r",
     "varRefreshCmd": "cat(var_dic_list()) "
    }
   },
   "types_to_exclude": [
    "module",
    "function",
    "builtin_function_or_method",
    "instance",
    "_Feature"
   ],
   "window_display": false
  }
 },
 "nbformat": 4,
 "nbformat_minor": 4
}
